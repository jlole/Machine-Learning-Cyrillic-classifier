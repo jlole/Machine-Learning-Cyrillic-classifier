{
 "cells": [
  {
   "cell_type": "code",
   "execution_count": 7,
   "metadata": {},
   "outputs": [],
   "source": [
    "from keras.preprocessing.image import ImageDataGenerator\n",
    "from keras.models import Sequential\n",
    "from keras.layers import Convolution2D, MaxPooling2D\n",
    "from keras.layers import Flatten, Dense, Dropout\n",
    "import sys\n",
    "\n",
    "img_width, img_height = 56, 56\n",
    "\n",
    "def create_model():\n",
    "    model = Sequential()\n",
    "    model.add(Convolution2D(50, (3, 3), input_shape=(img_width,img_height,3), activation='relu'))\n",
    "    model.add(MaxPooling2D(pool_size=(2, 2)))\n",
    "    model.add(Convolution2D(40, (3, 3), activation='relu'))\n",
    "    model.add(MaxPooling2D(pool_size=(2, 2)))\n",
    "    model.add(Dropout(0.2))\n",
    "    model.add(Flatten())\n",
    "    model.add(Dense(400, activation='relu'))\n",
    "    model.add(Dropout(0.2))\n",
    "    model.add(Dense(250, activation='relu'))\n",
    "    model.add(Dense(34, activation='softmax'))\n",
    "    return model"
   ]
  },
  {
   "cell_type": "code",
   "execution_count": 8,
   "metadata": {},
   "outputs": [],
   "source": [
    "model = create_model()\n",
    "# model.load_weights('models/Cyrilic Model epoch = 30.h5')\n",
    "\n",
    "import os\n",
    "i = 0\n",
    "while os.path.exists(\"models/Model%s.h5\" % i):\n",
    "    i += 1\n",
    "model.load_weights(\"models/Model%d.h5\" % (i - 1))\n",
    "\n"
   ]
  },
  {
   "cell_type": "code",
   "execution_count": 13,
   "metadata": {},
   "outputs": [
    {
     "name": "stdout",
     "output_type": "stream",
     "text": [
      "Prediction:  [12]\n",
      "Certainty:  29.63 %\n"
     ]
    }
   ],
   "source": [
    "from PIL import Image\n",
    "import numpy as np\n",
    "import matplotlib.pyplot as plt\n",
    "\n",
    "img = Image.open('data/predict/aa.jpg')\n",
    "img = img.resize((56,56), Image.ANTIALIAS)\n",
    "\n",
    "arr = np.array(img) * 1./255\n",
    "arr = np.expand_dims(arr, axis=0)\n",
    "\n",
    "prediction = model.predict(arr)\n",
    "\n",
    "print('Prediction: ', prediction.argmax(axis=-1))\n",
    "print('Certainty: ', round(max(prediction[0]) * 100,2) , '%')"
   ]
  },
  {
   "cell_type": "markdown",
   "metadata": {},
   "source": [
    " "
   ]
  },
  {
   "cell_type": "code",
   "execution_count": null,
   "metadata": {},
   "outputs": [],
   "source": []
  }
 ],
 "metadata": {
  "kernelspec": {
   "display_name": "Python 3",
   "language": "python",
   "name": "python3"
  },
  "language_info": {
   "codemirror_mode": {
    "name": "ipython",
    "version": 3
   },
   "file_extension": ".py",
   "mimetype": "text/x-python",
   "name": "python",
   "nbconvert_exporter": "python",
   "pygments_lexer": "ipython3",
   "version": "3.6.4"
  }
 },
 "nbformat": 4,
 "nbformat_minor": 2
}
