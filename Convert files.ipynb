{
 "cells": [
  {
   "cell_type": "code",
   "execution_count": 7,
   "metadata": {},
   "outputs": [
    {
     "name": "stdout",
     "output_type": "stream",
     "text": [
      "data/training/Я/58bed12a328d8.png                              \n",
      "Done\r"
     ]
    }
   ],
   "source": [
    "import os\n",
    "from PIL import Image\n",
    "\n",
    "# % of data for training\n",
    "ratio = 0.25\n",
    "# ratio = 0.50\n",
    "# ratio = 0.80\n",
    "\n",
    "def c():\n",
    "    folders = sorted(os.listdir('data/combined'))\n",
    "    for folder in folders:\n",
    "        if folder == \".DS_Store\":\n",
    "            continue\n",
    "        files = os.listdir('data/combined/' + folder)\n",
    "        \n",
    "        count = 0\n",
    "        n_training = int(len(files) * ratio)\n",
    "        n_testing  = 100\n",
    "        if count > n_training + n_testing:\n",
    "            continue\n",
    "        for file in files:\n",
    "            if file == \".DS_Store\":\n",
    "                continue\n",
    "            img = Image.open('data/combined/' + folder + '/' + file)\n",
    "            img.load()\n",
    "            img = img.resize((28,28), Image.ANTIALIAS)\n",
    "            background = Image.new(\"RGB\", img.size, (255, 255, 255))\n",
    "            background.paste(img, mask=img.split()[3])\n",
    "            if(count < n_testing):\n",
    "                t_type = 'testing'\n",
    "            else:\n",
    "                t_type = 'training'\n",
    "            if not os.path.exists('data/' + t_type + '/' + folder):\n",
    "                os.makedirs('data/' + t_type + '/' + folder)\n",
    "            background.save('data/' + t_type + '/' + folder + '/' +  file, \"PNG\")\n",
    "            print('data/' + t_type + '/' + folder + '/' + file + '                  ', end='\\r')\n",
    "            count += 1\n",
    "    print(\"\\nDone\", end='\\r')\n",
    "\n",
    "c();"
   ]
  },
  {
   "cell_type": "code",
   "execution_count": null,
   "metadata": {},
   "outputs": [],
   "source": []
  }
 ],
 "metadata": {
  "kernelspec": {
   "display_name": "Python 3",
   "language": "python",
   "name": "python3"
  },
  "language_info": {
   "codemirror_mode": {
    "name": "ipython",
    "version": 3
   },
   "file_extension": ".py",
   "mimetype": "text/x-python",
   "name": "python",
   "nbconvert_exporter": "python",
   "pygments_lexer": "ipython3",
   "version": "3.6.4"
  }
 },
 "nbformat": 4,
 "nbformat_minor": 2
}
