{
 "cells": [
  {
   "cell_type": "code",
   "execution_count": 1,
   "metadata": {},
   "outputs": [
    {
     "name": "stderr",
     "output_type": "stream",
     "text": [
      "Using TensorFlow backend.\n"
     ]
    },
    {
     "name": "stdout",
     "output_type": "stream",
     "text": [
      "Found 13583 images belonging to 33 classes.\n",
      "Found 1650 images belonging to 33 classes.\n",
      "Epoch 1/4\n",
      "453/452 [==============================] - 19s 43ms/step - loss: 0.1355 - acc: 0.9697 - val_loss: 0.1339 - val_acc: 0.9697\n",
      "Epoch 2/4\n",
      "453/452 [==============================] - 16s 35ms/step - loss: 0.1315 - acc: 0.9697 - val_loss: 0.1212 - val_acc: 0.9697\n",
      "Epoch 3/4\n",
      "453/452 [==============================] - 16s 35ms/step - loss: 0.1244 - acc: 0.9697 - val_loss: 0.1027 - val_acc: 0.9698\n",
      "Epoch 4/4\n",
      "453/452 [==============================] - 16s 35ms/step - loss: 0.1135 - acc: 0.9699 - val_loss: 0.0806 - val_acc: 0.9720\n"
     ]
    },
    {
     "data": {
      "text/plain": [
       "<keras.callbacks.History at 0x11a74deb8>"
      ]
     },
     "execution_count": 1,
     "metadata": {},
     "output_type": "execute_result"
    }
   ],
   "source": [
    "from keras.preprocessing.image import ImageDataGenerator\n",
    "from keras.models import Sequential\n",
    "from keras.layers import Convolution2D, MaxPooling2D, Flatten, Dense\n",
    "import keras\n",
    "from PIL import Image\n",
    "\n",
    "img_width, img_height = 28, 28\n",
    "\n",
    "train_data_dir = 'data_converted/training'\n",
    "validation_data_dir = 'data_converted/testing'\n",
    "\n",
    "train_samples = 13583\n",
    "validation_samples = 1650\n",
    "\n",
    "#Let's find a good number for epoch (30?)\n",
    "epoch = 4\n",
    "\n",
    "# ** Model Begins **\n",
    "model = Sequential()\n",
    "model.add(Convolution2D(16, (5, 5), activation='relu', input_shape=(img_width, img_height, 3)))\n",
    "model.add(MaxPooling2D(2, 2))\n",
    "model.add(Convolution2D(32, (5, 5), activation='relu'))\n",
    "model.add(MaxPooling2D(2, 2))\n",
    "model.add(Flatten())\n",
    "model.add(Dense(1000, activation='relu'))\n",
    "model.add(Dense(33, activation='softmax'))\n",
    "# ** Model Ends **\n",
    "\n",
    "model.compile(loss=keras.losses.binary_crossentropy,\n",
    "              optimizer=keras.optimizers.Adadelta(),\n",
    "              metrics=['accuracy'])\n",
    "\n",
    "train_datagen = ImageDataGenerator(\n",
    "        rescale=1./255,\n",
    "        shear_range=0.2,\n",
    "        zoom_range=0.2,\n",
    "        rotation_range=45.,\n",
    "        width_shift_range=0.2,\n",
    "        height_shift_range=0.2,\n",
    "        fill_mode='constant')\n",
    "\n",
    "test_datagen = ImageDataGenerator(rescale=1./255)\n",
    "\n",
    "train_generator = train_datagen.flow_from_directory(\n",
    "        train_data_dir,\n",
    "        target_size=(img_width, img_height),\n",
    "        batch_size=32,\n",
    "        class_mode='categorical')\n",
    "\n",
    "validation_generator = test_datagen.flow_from_directory(\n",
    "        validation_data_dir,\n",
    "        target_size=(img_width, img_height),\n",
    "        batch_size=32,\n",
    "        class_mode='categorical')\n",
    "\n",
    "model.fit_generator(\n",
    "        train_generator,\n",
    "        steps_per_epoch=train_samples/30,\n",
    "        epochs=epoch,\n",
    "        validation_data=validation_generator,\n",
    "        validation_steps=validation_samples/30)"
   ]
  },
  {
   "cell_type": "code",
   "execution_count": 2,
   "metadata": {},
   "outputs": [],
   "source": [
    "filename = str(epoch) + 'EPOCH33CAT' #nr of epocs and categories as filename\n",
    "model.save_weights('models/' + filename+'.h5')"
   ]
  },
  {
   "cell_type": "markdown",
   "metadata": {},
   "source": [
    " "
   ]
  }
 ],
 "metadata": {
  "kernelspec": {
   "display_name": "Python 3",
   "language": "python",
   "name": "python3"
  },
  "language_info": {
   "codemirror_mode": {
    "name": "ipython",
    "version": 3
   },
   "file_extension": ".py",
   "mimetype": "text/x-python",
   "name": "python",
   "nbconvert_exporter": "python",
   "pygments_lexer": "ipython3",
   "version": "3.6.4"
  }
 },
 "nbformat": 4,
 "nbformat_minor": 2
}
