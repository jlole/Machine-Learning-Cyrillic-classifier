{
 "cells": [
  {
   "cell_type": "code",
   "execution_count": 11,
   "metadata": {},
   "outputs": [
    {
     "name": "stdout",
     "output_type": "stream",
     "text": [
      "data/validation/С/58be93779f237.png                              \n",
      "Done\r"
     ]
    }
   ],
   "source": [
    "import os\n",
    "from PIL import Image\n",
    "\n",
    "def c():\n",
    "    folders = os.listdir('data/combined')\n",
    "    for folder in folders:\n",
    "        if folder == \".DS_Store\":\n",
    "            continue\n",
    "        files = os.listdir('data/combined/' + folder)\n",
    "        count = 0\n",
    "        for file in files:\n",
    "            if file == \".DS_Store\":\n",
    "                continue\n",
    "            img = Image.open('data/combined/' + folder + '/' + file)\n",
    "            img.load()\n",
    "            img = img.resize((56,56), Image.ANTIALIAS)\n",
    "            background = Image.new(\"RGB\", img.size, (255, 255, 255))\n",
    "            background.paste(img, mask=img.split()[3])\n",
    "            if(count < 50):\n",
    "                t_type = 'training'\n",
    "            else:\n",
    "                t_type = 'validation'\n",
    "            if not os.path.exists('data/' + t_type + '/' + folder):\n",
    "                os.makedirs('data/' + t_type + '/' + folder)\n",
    "            background.save('data/' + t_type + '/' + folder + '/' +  file, \"PNG\")\n",
    "            print('data/' + t_type + '/' + folder + '/' + file + '                  ', end='\\r')\n",
    "            count += 1\n",
    "    print(\"\\nDone\", end='\\r')\n",
    "\n",
    "c();"
   ]
  },
  {
   "cell_type": "code",
   "execution_count": null,
   "metadata": {},
   "outputs": [],
   "source": []
  }
 ],
 "metadata": {
  "kernelspec": {
   "display_name": "Python 3",
   "language": "python",
   "name": "python3"
  },
  "language_info": {
   "codemirror_mode": {
    "name": "ipython",
    "version": 3
   },
   "file_extension": ".py",
   "mimetype": "text/x-python",
   "name": "python",
   "nbconvert_exporter": "python",
   "pygments_lexer": "ipython3",
   "version": "3.6.4"
  }
 },
 "nbformat": 4,
 "nbformat_minor": 2
}
