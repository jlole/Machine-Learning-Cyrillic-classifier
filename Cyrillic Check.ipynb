{
 "cells": [
  {
   "cell_type": "code",
   "execution_count": 3,
   "metadata": {},
   "outputs": [],
   "source": [
    "from keras.preprocessing.image import ImageDataGenerator\n",
    "from keras.models import Sequential\n",
    "from keras.layers import Conv2D, MaxPooling2D\n",
    "from keras.layers import Flatten, Dense, Dropout\n",
    "import sys\n",
    "\n",
    "img_width, img_height = 28, 28\n",
    "input_shape = (img_width, img_height,3)\n",
    "num_classes = 33\n",
    "\n",
    "def create_model():\n",
    "    model = Sequential()\n",
    "    model.add(Conv2D(32, kernel_size=(2, 2), activation='relu', input_shape=input_shape))\n",
    "    model.add(MaxPooling2D(pool_size=(2, 2)))\n",
    "    model.add(Flatten())\n",
    "    model.add(Dense(num_classes, activation='softmax'))\n",
    "    return model"
   ]
  },
  {
   "cell_type": "code",
   "execution_count": 4,
   "metadata": {},
   "outputs": [
    {
     "name": "stdout",
     "output_type": "stream",
     "text": [
      "7\n"
     ]
    }
   ],
   "source": [
    "model = create_model()\n",
    "# model.load_weights('models/Cyrilic Model epoch = 30.h5')\n",
    "\n",
    "import os\n",
    "i = 0\n",
    "while os.path.exists(\"models/Model%s.h5\" % i):\n",
    "    i += 1\n",
    "model.load_weights(\"models/Model%d.h5\" % (i - 1))\n",
    "print(i-1)"
   ]
  },
  {
   "cell_type": "code",
   "execution_count": 5,
   "metadata": {},
   "outputs": [
    {
     "name": "stdout",
     "output_type": "stream",
     "text": [
      "Prediction:  [6]\n",
      "Certainty:  6.92 %\n",
      "Е\n"
     ]
    },
    {
     "data": {
      "text/plain": [
       "array([[ 0.029,  0.014,  0.035,  0.048,  0.039,  0.027,  0.069,  0.027,\n",
       "         0.021,  0.022,  0.023,  0.021,  0.02 ,  0.038,  0.025,  0.06 ,\n",
       "         0.055,  0.024,  0.056,  0.02 ,  0.017,  0.027,  0.021,  0.028,\n",
       "         0.016,  0.036,  0.04 ,  0.021,  0.028,  0.011,  0.018,  0.049,\n",
       "         0.018]], dtype=float32)"
      ]
     },
     "execution_count": 5,
     "metadata": {},
     "output_type": "execute_result"
    }
   ],
   "source": [
    "from PIL import Image\n",
    "import numpy as np\n",
    "import matplotlib.pyplot as plt\n",
    "\n",
    "img = Image.open('data/predict/t1.png')\n",
    "img = img.resize((28,28), Image.ANTIALIAS)\n",
    "\n",
    "arr = np.array(img) * 1./255\n",
    "arr = np.expand_dims(arr, axis=0)\n",
    "\n",
    "prediction = model.predict(arr)\n",
    "\n",
    "ma = {\n",
    "    0:'Ё',\n",
    "    1:'А',    2:'Б',    3:'В',    4:'Г',\n",
    "    5:'Д',    6:'Е',    7:'Ж',    8:'З',\n",
    "    9:'И',    10:'Й',    11:'К',    12:'Л',\n",
    "    13:'М',    14:'Н',    15:'О',    16:'П',\n",
    "    17:'Р',    18:'С',    19:'Т',    20:'У',\n",
    "    21:'Ф',    22:'Х',    23:'Ц',    24:'Ч',\n",
    "    25:'Ш',    26:'Щ',    27:'Ъ',    28:'Ы',\n",
    "    29:'Ь',    30:'Э',    31:'Ю',    32:'Я'\n",
    "     }\n",
    "\n",
    "print('Prediction: ', prediction.argmax(axis=-1))\n",
    "print('Certainty: ', round(max(prediction[0]) * 100,2) , '%')\n",
    "print(ma[prediction.argmax(axis=-1)[0]])\n",
    "img.show()\n",
    "prediction.round(3)"
   ]
  },
  {
   "cell_type": "markdown",
   "metadata": {},
   "source": [
    " "
   ]
  },
  {
   "cell_type": "code",
   "execution_count": 38,
   "metadata": {},
   "outputs": [],
   "source": [
    "img.show()"
   ]
  },
  {
   "cell_type": "code",
   "execution_count": null,
   "metadata": {},
   "outputs": [],
   "source": []
  }
 ],
 "metadata": {
  "kernelspec": {
   "display_name": "Python 3",
   "language": "python",
   "name": "python3"
  },
  "language_info": {
   "codemirror_mode": {
    "name": "ipython",
    "version": 3
   },
   "file_extension": ".py",
   "mimetype": "text/x-python",
   "name": "python",
   "nbconvert_exporter": "python",
   "pygments_lexer": "ipython3",
   "version": "3.6.4"
  }
 },
 "nbformat": 4,
 "nbformat_minor": 2
}
