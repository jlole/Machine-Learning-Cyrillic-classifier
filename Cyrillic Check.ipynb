{
 "cells": [
  {
   "cell_type": "markdown",
   "metadata": {},
   "source": [
    "### Imports"
   ]
  },
  {
   "cell_type": "code",
   "execution_count": null,
   "metadata": {},
   "outputs": [],
   "source": [
    "from keras.preprocessing.image import ImageDataGenerator\n",
    "from keras.models import Sequential\n",
    "from keras.layers import Conv2D, MaxPooling2D\n",
    "from keras.layers import Flatten, Dense, Dropout\n",
    "import sys"
   ]
  },
  {
   "cell_type": "markdown",
   "metadata": {},
   "source": [
    "### Variables"
   ]
  },
  {
   "cell_type": "code",
   "execution_count": null,
   "metadata": {},
   "outputs": [],
   "source": [
    "img_width, img_height = 28, 28\n",
    "input_shape = (img_width, img_height,3)\n",
    "num_classes = 33"
   ]
  },
  {
   "cell_type": "markdown",
   "metadata": {},
   "source": [
    "### Create model"
   ]
  },
  {
   "cell_type": "code",
   "execution_count": null,
   "metadata": {},
   "outputs": [],
   "source": [
    "model = Sequential()\n",
    "model.add(Conv2D(30, kernel_size=(5, 5), activation='relu', input_shape=input_shape))\n",
    "model.add(Conv2D(30, (5, 5), activation='relu'))\n",
    "model.add(Conv2D(30, (5, 5), activation='relu'))\n",
    "model.add(Conv2D(30, (5, 5), activation='relu'))\n",
    "model.add(MaxPooling2D(pool_size=(2, 2)))\n",
    "model.add(Flatten())\n",
    "model.add(Dense(num_classes, activation='softmax'))"
   ]
  },
  {
   "cell_type": "markdown",
   "metadata": {},
   "source": [
    "### Load weights into model"
   ]
  },
  {
   "cell_type": "code",
   "execution_count": null,
   "metadata": {},
   "outputs": [],
   "source": [
    "import os\n",
    "i = 0\n",
    "while os.path.exists(\"models/Model%s.h5\" % i):\n",
    "    i += 1\n",
    "model.load_weights(\"models/Model%d.h5\" % (i - 1))\n",
    "print(\"loaded: models/Model%i.h5\" % (i-1))"
   ]
  },
  {
   "cell_type": "markdown",
   "metadata": {},
   "source": [
    "### Predict"
   ]
  },
  {
   "cell_type": "code",
   "execution_count": null,
   "metadata": {},
   "outputs": [],
   "source": [
    "from PIL import Image\n",
    "import numpy as np\n",
    "import matplotlib.pyplot as plt\n",
    "\n",
    "# А Б В Г Д Е Ё Ж З И Й К Л М Н О П Р С Т У Ф Х Ц Ч Ш Щ Ъ Ы Ь Э Ю Я\n",
    "# data/predict contains А.jpg, Б.jpg, ..., Я.jpg\n",
    "# which the neural network has not seen\n",
    "\n",
    "img = Image.open('data/predict/А.jpg')\n",
    "\n",
    "img = img.resize((28,28), Image.ANTIALIAS)\n",
    "arr = np.array(img) * 1./255\n",
    "arr = np.expand_dims(arr, axis=0)\n",
    "prediction = model.predict(arr)\n",
    "ma = {\n",
    "    0:'Ё',\n",
    "    1:'А',    2:'Б',    3:'В',    4:'Г',\n",
    "    5:'Д',    6:'Е',    7:'Ж',    8:'З',\n",
    "    9:'И',    10:'Й',    11:'К',    12:'Л',\n",
    "    13:'М',    14:'Н',    15:'О',    16:'П',\n",
    "    17:'Р',    18:'С',    19:'Т',    20:'У',\n",
    "    21:'Ф',    22:'Х',    23:'Ц',    24:'Ч',\n",
    "    25:'Ш',    26:'Щ',    27:'Ъ',    28:'Ы',\n",
    "    29:'Ь',    30:'Э',    31:'Ю',    32:'Я'\n",
    "     }\n",
    "\n",
    "print('Prediction: ', ma[prediction.argmax(axis=-1)[0]])\n",
    "print('Certainty: ', round(max(prediction[0]) * 100,2) , '%')\n",
    "img.show()"
   ]
  },
  {
   "cell_type": "markdown",
   "metadata": {},
   "source": [
    " "
   ]
  }
 ],
 "metadata": {
  "kernelspec": {
   "display_name": "Python 3",
   "language": "python",
   "name": "python3"
  },
  "language_info": {
   "codemirror_mode": {
    "name": "ipython",
    "version": 3
   },
   "file_extension": ".py",
   "mimetype": "text/x-python",
   "name": "python",
   "nbconvert_exporter": "python",
   "pygments_lexer": "ipython3",
   "version": "3.6.4"
  }
 },
 "nbformat": 4,
 "nbformat_minor": 2
}
