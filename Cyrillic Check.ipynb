{
 "cells": [
  {
   "cell_type": "code",
   "execution_count": null,
   "metadata": {},
   "outputs": [],
   "source": [
    "from keras.preprocessing.image import ImageDataGenerator\n",
    "from keras.models import Sequential\n",
    "from keras.layers import Convolution2D, MaxPooling2D\n",
    "from keras.layers import Flatten, Dense\n",
    "import sys\n",
    "\n",
    "img_width, img_height = 28, 28\n",
    "\n",
    "def create_model():\n",
    "    model = Sequential()\n",
    "    model.add(Convolution2D(16, (5, 5), activation='relu', input_shape=(img_width, img_height, 3)))\n",
    "    model.add(MaxPooling2D(2, 2))\n",
    "    model.add(Convolution2D(32, (5, 5), activation='relu'))\n",
    "    model.add(MaxPooling2D(2, 2))\n",
    "    model.add(Flatten())\n",
    "    model.add(Dense(1000, activation='relu'))\n",
    "    model.add(Dense(3, activation='softmax'))\n",
    "    return model"
   ]
  },
  {
   "cell_type": "code",
   "execution_count": null,
   "metadata": {},
   "outputs": [],
   "source": [
    "model = create_model()\n",
    "model.load_weights('models/4EPOCH3CAT.h5')"
   ]
  },
  {
   "cell_type": "code",
   "execution_count": null,
   "metadata": {},
   "outputs": [],
   "source": [
    "from PIL import Image\n",
    "import numpy as np\n",
    "\n",
    "# image made on https://pixlr.com/editor/\n",
    "img = Image.open('data_converted/input_test.jpg')\n",
    "img.load()\n",
    "img = img.resize((28,28), Image.ANTIALIAS)\n",
    "img.show()\n",
    "\n",
    "# img_ = Image.new(\"RGB\", img.size, (255, 255, 255))\n",
    "# img_.paste(img, mask=img.split()[3])\n",
    "\n",
    "arr = np.array(img)\n",
    "arr = np.expand_dims(arr, axis=0)\n",
    "\n",
    "prediction = model.predict(arr)[0]\n",
    "bestclass = ''\n",
    "bestconf = -1\n",
    "\n",
    "for n in range(3):\n",
    "    print(n)\n",
    "    if (prediction[n] > bestconf):\n",
    "        bestclass = n\n",
    "        bestconf = prediction[n]\n",
    "        \n",
    "cyr = { 0: 'э', 1: 'ш', 2: 'л'}\n",
    "\n",
    "        \n",
    "print('I think this digit is a ' + cyr[bestclass] + ' with ' + str(bestconf * 100) + '% confidence.')"
   ]
  },
  {
   "cell_type": "code",
   "execution_count": null,
   "metadata": {},
   "outputs": [],
   "source": []
  },
  {
   "cell_type": "code",
   "execution_count": null,
   "metadata": {},
   "outputs": [],
   "source": []
  }
 ],
 "metadata": {
  "kernelspec": {
   "display_name": "Python 3",
   "language": "python",
   "name": "python3"
  },
  "language_info": {
   "codemirror_mode": {
    "name": "ipython",
    "version": 3
   },
   "file_extension": ".py",
   "mimetype": "text/x-python",
   "name": "python",
   "nbconvert_exporter": "python",
   "pygments_lexer": "ipython3",
   "version": "3.6.4"
  }
 },
 "nbformat": 4,
 "nbformat_minor": 2
}
