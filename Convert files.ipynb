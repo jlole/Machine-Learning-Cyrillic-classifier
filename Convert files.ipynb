{
 "cells": [
  {
   "cell_type": "code",
   "execution_count": 5,
   "metadata": {},
   "outputs": [
    {
     "name": "stdout",
     "output_type": "stream",
     "text": [
      "data/training/25/58c06e73d8b67.png\n",
      "data/testing/25/5a11960bdcd41.pngopie (2).png\n",
      "Done\r"
     ]
    }
   ],
   "source": [
    "import os\n",
    "from PIL import Image\n",
    "\n",
    "def convert(p1, p2):\n",
    "    listing = os.listdir(p1) \n",
    "    for sub in listing:\n",
    "        if sub == \".DS_Store\":\n",
    "            continue;\n",
    "        sub_listing = os.listdir(p1 + '/' + sub) \n",
    "        for file in sub_listing:\n",
    "            if file == \".DS_Store\":\n",
    "                continue;\n",
    "            img = Image.open(p1 + '/' + sub + '/' + file)\n",
    "            img.load()\n",
    "            img = img.resize((28,28), Image.ANTIALIAS)\n",
    "            background = Image.new(\"RGB\", img.size, (255, 255, 255))\n",
    "            background.paste(img, mask=img.split()[3])\n",
    "            background.save(p2 +'/' + sub + '/' +  file, \"JPEG\")\n",
    "            print(p1 + '/' + sub + '/' + file, end='\\r')\n",
    "    print(\"\\nDone\", end='\\r')\n",
    "\n",
    "\n",
    "convert('data/training','data_converted/training')\n",
    "convert('data/testing','data_converted/testing')\n",
    "        "
   ]
  },
  {
   "cell_type": "code",
   "execution_count": null,
   "metadata": {},
   "outputs": [],
   "source": []
  }
 ],
 "metadata": {
  "kernelspec": {
   "display_name": "Python 3",
   "language": "python",
   "name": "python3"
  },
  "language_info": {
   "codemirror_mode": {
    "name": "ipython",
    "version": 3
   },
   "file_extension": ".py",
   "mimetype": "text/x-python",
   "name": "python",
   "nbconvert_exporter": "python",
   "pygments_lexer": "ipython3",
   "version": "3.6.4"
  }
 },
 "nbformat": 4,
 "nbformat_minor": 2
}
